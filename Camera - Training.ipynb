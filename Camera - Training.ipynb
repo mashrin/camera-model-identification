{
 "cells": [
  {
   "cell_type": "code",
   "execution_count": 1,
   "metadata": {},
   "outputs": [
    {
     "name": "stdout",
     "output_type": "stream",
     "text": [
      "camera_model.pkl\n",
      "test1\n",
      "train\n",
      "\n"
     ]
    }
   ],
   "source": [
    "import os\n",
    "from pathlib import Path\n",
    "import multiprocessing as mp\n",
    "\n",
    "import numpy as np # linear algebra\n",
    "import pandas as pd # data processing, CSV file I/O (e.g. pd.read_csv)\n",
    "\n",
    "from skimage.data import imread\n",
    "from sklearn.ensemble import RandomForestClassifier\n",
    "\n",
    "# Input data files are available in the \"../input/\" directory.\n",
    "# For example, running this (by clicking run or pressing Shift+Enter) will list the files in the input directory\n",
    "\n",
    "from subprocess import check_output\n",
    "print(check_output([\"ls\", \"input\"]).decode(\"utf8\"))"
   ]
  },
  {
   "cell_type": "code",
   "execution_count": 2,
   "metadata": {},
   "outputs": [
    {
     "name": "stdout",
     "output_type": "stream",
     "text": [
      "/home/mashrin/input\n",
      "/home/mashrin/input/test1\n"
     ]
    },
    {
     "data": {
      "text/plain": [
       "['HTC-1-M7',\n",
       " 'Motorola-Nexus-6',\n",
       " 'Sony-NEX-7',\n",
       " 'Samsung-Galaxy-S4',\n",
       " 'iPhone-6',\n",
       " 'iPhone-4s',\n",
       " 'Motorola-X',\n",
       " 'Motorola-Droid-Maxx',\n",
       " 'Samsung-Galaxy-Note3',\n",
       " 'LG-Nexus-5x']"
      ]
     },
     "execution_count": 2,
     "metadata": {},
     "output_type": "execute_result"
    }
   ],
   "source": [
    "input_path = Path('/home/mashrin/input')\n",
    "print(input_path)\n",
    "train_path = input_path/'train' # /home/mashrin/input/train\n",
    "test_path = input_path/'test1'\n",
    "print(test_path)\n",
    "#os.listdir(test_path)\n",
    "os.listdir(train_path)\n",
    "#os.walk(\"test_path\")"
   ]
  },
  {
   "cell_type": "code",
   "execution_count": 3,
   "metadata": {},
   "outputs": [
    {
     "name": "stdout",
     "output_type": "stream",
     "text": [
      "(2750, 2)\n"
     ]
    },
    {
     "data": {
      "text/html": [
       "<div>\n",
       "<table border=\"1\" class=\"dataframe\">\n",
       "  <thead>\n",
       "    <tr style=\"text-align: right;\">\n",
       "      <th></th>\n",
       "      <th>camera</th>\n",
       "      <th>fname</th>\n",
       "    </tr>\n",
       "  </thead>\n",
       "  <tbody>\n",
       "    <tr>\n",
       "      <th>68</th>\n",
       "      <td>HTC-1-M7</td>\n",
       "      <td>(HTC-1-M7)160.jpg</td>\n",
       "    </tr>\n",
       "    <tr>\n",
       "      <th>1155</th>\n",
       "      <td>iPhone-6</td>\n",
       "      <td>(iP6)149.jpg</td>\n",
       "    </tr>\n",
       "    <tr>\n",
       "      <th>1622</th>\n",
       "      <td>iPhone-4s</td>\n",
       "      <td>(iP4s)74.jpg</td>\n",
       "    </tr>\n",
       "    <tr>\n",
       "      <th>447</th>\n",
       "      <td>Motorola-Nexus-6</td>\n",
       "      <td>(MotoNex6)254.jpg</td>\n",
       "    </tr>\n",
       "    <tr>\n",
       "      <th>358</th>\n",
       "      <td>Motorola-Nexus-6</td>\n",
       "      <td>(MotoNex6)174.jpg</td>\n",
       "    </tr>\n",
       "  </tbody>\n",
       "</table>\n",
       "</div>"
      ],
      "text/plain": [
       "                camera              fname\n",
       "68            HTC-1-M7  (HTC-1-M7)160.jpg\n",
       "1155          iPhone-6       (iP6)149.jpg\n",
       "1622         iPhone-4s       (iP4s)74.jpg\n",
       "447   Motorola-Nexus-6  (MotoNex6)254.jpg\n",
       "358   Motorola-Nexus-6  (MotoNex6)174.jpg"
      ]
     },
     "execution_count": 3,
     "metadata": {},
     "output_type": "execute_result"
    }
   ],
   "source": [
    "cameras = os.listdir(train_path)\n",
    "\n",
    "train_images = []\n",
    "for camera in cameras:\n",
    "    for fname in sorted(os.listdir(train_path / camera)):\n",
    "        train_images.append((camera, fname))\n",
    "\n",
    "train = pd.DataFrame(train_images, columns=['camera', 'fname'])\n",
    "print(train.shape)\n",
    "train.sample(5)"
   ]
  },
  {
   "cell_type": "code",
   "execution_count": 4,
   "metadata": {},
   "outputs": [
    {
     "name": "stdout",
     "output_type": "stream",
     "text": [
      "(70, 1)\n"
     ]
    },
    {
     "data": {
      "text/html": [
       "<div>\n",
       "<table border=\"1\" class=\"dataframe\">\n",
       "  <thead>\n",
       "    <tr style=\"text-align: right;\">\n",
       "      <th></th>\n",
       "      <th>fname</th>\n",
       "    </tr>\n",
       "  </thead>\n",
       "  <tbody>\n",
       "    <tr>\n",
       "      <th>0</th>\n",
       "      <td>(GalaxyN3)22.jpg</td>\n",
       "    </tr>\n",
       "    <tr>\n",
       "      <th>1</th>\n",
       "      <td>(GalaxyN3)23.jpg</td>\n",
       "    </tr>\n",
       "    <tr>\n",
       "      <th>2</th>\n",
       "      <td>(GalaxyN3)24.jpg</td>\n",
       "    </tr>\n",
       "    <tr>\n",
       "      <th>3</th>\n",
       "      <td>(GalaxyN3)25.jpg</td>\n",
       "    </tr>\n",
       "    <tr>\n",
       "      <th>4</th>\n",
       "      <td>(GalaxyS4)11.jpg</td>\n",
       "    </tr>\n",
       "  </tbody>\n",
       "</table>\n",
       "</div>"
      ],
      "text/plain": [
       "              fname\n",
       "0  (GalaxyN3)22.jpg\n",
       "1  (GalaxyN3)23.jpg\n",
       "2  (GalaxyN3)24.jpg\n",
       "3  (GalaxyN3)25.jpg\n",
       "4  (GalaxyS4)11.jpg"
      ]
     },
     "execution_count": 4,
     "metadata": {},
     "output_type": "execute_result"
    }
   ],
   "source": [
    "test_images = []\n",
    "for fname in sorted(os.listdir(test_path)):\n",
    "    test_images.append(fname)\n",
    "    #print(test_images)\n",
    "test = pd.DataFrame(test_images, columns=['fname'])\n",
    "print(test.shape)\n",
    "test.head(5)"
   ]
  },
  {
   "cell_type": "code",
   "execution_count": 5,
   "metadata": {},
   "outputs": [],
   "source": [
    "def color_stats(q, iolock):\n",
    "    \n",
    "    while True:\n",
    "        \n",
    "        img_path = q.get()\n",
    "        if img_path is None:\n",
    "            break\n",
    "            \n",
    "        if type(img_path) is tuple:\n",
    "            img = imread(train_path / img_path[0] / img_path[1])\n",
    "            key = img_path[1]\n",
    "        else:\n",
    "            img = imread(test_path / img_path)\n",
    "            key = img_path\n",
    "\n",
    "        # Some images read return info in a 2nd dim. We only want the first dim.\n",
    "        if img.shape == (2,):\n",
    "            img = img[0]\n",
    "\n",
    "        color_info[key] = (img[:, :, 0].mean(), img[:, :, 1].mean(), img[:, :, 2].mean(),\n",
    "                           img[:, :, 0].std(),  img[:, :, 1].std(),  img[:, :, 2].std())    "
   ]
  },
  {
   "cell_type": "code",
   "execution_count": 6,
   "metadata": {},
   "outputs": [],
   "source": [
    "cols = ['a0', 'a1', 'a2', 's0', 's1', 's2']\n",
    "\n",
    "for col in cols:\n",
    "    train[col] = None\n",
    "    test[col] = None"
   ]
  },
  {
   "cell_type": "code",
   "execution_count": 7,
   "metadata": {},
   "outputs": [],
   "source": [
    "NCORE = 8\n",
    "\n",
    "color_info = mp.Manager().dict()\n",
    "\n",
    "# Using a queue since the image read is a bottleneck\n",
    "q = mp.Queue(maxsize=NCORE)\n",
    "iolock = mp.Lock()\n",
    "pool = mp.Pool(NCORE, initializer=color_stats, initargs=(q, iolock))\n",
    "\n",
    "for i in train_images:\n",
    "    q.put(i)  # blocks until q below its max size\n",
    "\n",
    "for i in test_images:\n",
    "    q.put(i)  # blocks until q below its max size\n",
    "    \n",
    "# tell workers we're done\n",
    "for _ in range(NCORE):  \n",
    "    q.put(None)\n",
    "pool.close()\n",
    "pool.join()\n",
    "\n",
    "color_info = dict(color_info)"
   ]
  },
  {
   "cell_type": "code",
   "execution_count": 8,
   "metadata": {},
   "outputs": [],
   "source": [
    "for n, col in enumerate(cols):\n",
    "    train[col] = train['fname'].apply(lambda x: color_info[x][n])\n",
    "    test[col] = test['fname'].apply(lambda x: color_info[x][n])"
   ]
  },
  {
   "cell_type": "code",
   "execution_count": 9,
   "metadata": {},
   "outputs": [
    {
     "data": {
      "text/html": [
       "<div>\n",
       "<table border=\"1\" class=\"dataframe\">\n",
       "  <thead>\n",
       "    <tr style=\"text-align: right;\">\n",
       "      <th></th>\n",
       "      <th>fname</th>\n",
       "      <th>a0</th>\n",
       "      <th>a1</th>\n",
       "      <th>a2</th>\n",
       "      <th>s0</th>\n",
       "      <th>s1</th>\n",
       "      <th>s2</th>\n",
       "    </tr>\n",
       "  </thead>\n",
       "  <tbody>\n",
       "    <tr>\n",
       "      <th>58</th>\n",
       "      <td>(iP4s)23.jpg</td>\n",
       "      <td>100.393921</td>\n",
       "      <td>107.554872</td>\n",
       "      <td>91.045082</td>\n",
       "      <td>64.098100</td>\n",
       "      <td>66.410812</td>\n",
       "      <td>76.357379</td>\n",
       "    </tr>\n",
       "    <tr>\n",
       "      <th>44</th>\n",
       "      <td>(MotoX)14.jpg</td>\n",
       "      <td>64.859726</td>\n",
       "      <td>60.598672</td>\n",
       "      <td>54.532078</td>\n",
       "      <td>49.729233</td>\n",
       "      <td>53.594673</td>\n",
       "      <td>48.027553</td>\n",
       "    </tr>\n",
       "    <tr>\n",
       "      <th>52</th>\n",
       "      <td>(Nex7)272.JPG</td>\n",
       "      <td>111.873796</td>\n",
       "      <td>111.478324</td>\n",
       "      <td>117.324384</td>\n",
       "      <td>88.888926</td>\n",
       "      <td>89.811109</td>\n",
       "      <td>90.412447</td>\n",
       "    </tr>\n",
       "    <tr>\n",
       "      <th>63</th>\n",
       "      <td>(iP4s)28.jpg</td>\n",
       "      <td>114.706468</td>\n",
       "      <td>120.588007</td>\n",
       "      <td>126.645102</td>\n",
       "      <td>45.167838</td>\n",
       "      <td>45.812141</td>\n",
       "      <td>49.952080</td>\n",
       "    </tr>\n",
       "    <tr>\n",
       "      <th>59</th>\n",
       "      <td>(iP4s)24.jpg</td>\n",
       "      <td>78.493214</td>\n",
       "      <td>88.646666</td>\n",
       "      <td>79.019691</td>\n",
       "      <td>58.903285</td>\n",
       "      <td>69.635095</td>\n",
       "      <td>82.740934</td>\n",
       "    </tr>\n",
       "  </tbody>\n",
       "</table>\n",
       "</div>"
      ],
      "text/plain": [
       "            fname          a0          a1          a2         s0         s1  \\\n",
       "58   (iP4s)23.jpg  100.393921  107.554872   91.045082  64.098100  66.410812   \n",
       "44  (MotoX)14.jpg   64.859726   60.598672   54.532078  49.729233  53.594673   \n",
       "52  (Nex7)272.JPG  111.873796  111.478324  117.324384  88.888926  89.811109   \n",
       "63   (iP4s)28.jpg  114.706468  120.588007  126.645102  45.167838  45.812141   \n",
       "59   (iP4s)24.jpg   78.493214   88.646666   79.019691  58.903285  69.635095   \n",
       "\n",
       "           s2  \n",
       "58  76.357379  \n",
       "44  48.027553  \n",
       "52  90.412447  \n",
       "63  49.952080  \n",
       "59  82.740934  "
      ]
     },
     "execution_count": 9,
     "metadata": {},
     "output_type": "execute_result"
    }
   ],
   "source": [
    "train.sample(5)\n",
    "test.sample(5)"
   ]
  },
  {
   "cell_type": "code",
   "execution_count": 10,
   "metadata": {},
   "outputs": [],
   "source": [
    "y = train['camera'].values\n",
    "X_train = train[cols].values\n",
    "X_test = test[cols].values"
   ]
  },
  {
   "cell_type": "code",
   "execution_count": 11,
   "metadata": {},
   "outputs": [
    {
     "data": {
      "text/plain": [
       "RandomForestClassifier(bootstrap=True, class_weight=None, criterion='gini',\n",
       "            max_depth=None, max_features='auto', max_leaf_nodes=None,\n",
       "            min_impurity_decrease=0.0, min_impurity_split=None,\n",
       "            min_samples_leaf=1, min_samples_split=2,\n",
       "            min_weight_fraction_leaf=0.0, n_estimators=200, n_jobs=1,\n",
       "            oob_score=False, random_state=None, verbose=0,\n",
       "            warm_start=False)"
      ]
     },
     "execution_count": 11,
     "metadata": {},
     "output_type": "execute_result"
    }
   ],
   "source": [
    "clf = RandomForestClassifier(n_estimators=200)\n",
    "clf.fit(X_train, y)"
   ]
  },
  {
   "cell_type": "code",
   "execution_count": 12,
   "metadata": {},
   "outputs": [
    {
     "name": "stdout",
     "output_type": "stream",
     "text": [
      "['Samsung-Galaxy-Note3' 'Samsung-Galaxy-Note3' 'Samsung-Galaxy-Note3'\n",
      " 'Samsung-Galaxy-Note3' 'Samsung-Galaxy-S4' 'Samsung-Galaxy-S4'\n",
      " 'Samsung-Galaxy-S4' 'Samsung-Galaxy-S4' 'Samsung-Galaxy-S4'\n",
      " 'Samsung-Galaxy-S4' 'Samsung-Galaxy-S4' 'Samsung-Galaxy-S4'\n",
      " 'Samsung-Galaxy-S4' 'HTC-1-M7' 'HTC-1-M7' 'HTC-1-M7' 'HTC-1-M7' 'HTC-1-M7'\n",
      " 'HTC-1-M7' 'HTC-1-M7' 'HTC-1-M7' 'HTC-1-M7' 'HTC-1-M7' 'HTC-1-M7'\n",
      " 'HTC-1-M7' 'LG-Nexus-5x' 'LG-Nexus-5x' 'LG-Nexus-5x' 'LG-Nexus-5x'\n",
      " 'LG-Nexus-5x' 'LG-Nexus-5x' 'LG-Nexus-5x' 'LG-Nexus-5x'\n",
      " 'Motorola-Droid-Maxx' 'Motorola-Droid-Maxx' 'Motorola-Droid-Maxx'\n",
      " 'Motorola-Droid-Maxx' 'Motorola-Droid-Maxx' 'Motorola-Nexus-6'\n",
      " 'Motorola-Nexus-6' 'Motorola-Nexus-6' 'Motorola-X' 'Motorola-X'\n",
      " 'Motorola-X' 'Motorola-X' 'Sony-NEX-7' 'Sony-NEX-7' 'Sony-NEX-7'\n",
      " 'Sony-NEX-7' 'Sony-NEX-7' 'Sony-NEX-7' 'Sony-NEX-7' 'Sony-NEX-7'\n",
      " 'Sony-NEX-7' 'Sony-NEX-7' 'Sony-NEX-7' 'iPhone-4s' 'iPhone-4s' 'iPhone-4s'\n",
      " 'iPhone-4s' 'iPhone-4s' 'iPhone-4s' 'iPhone-4s' 'iPhone-4s' 'iPhone-4s'\n",
      " 'iPhone-6' 'iPhone-6' 'iPhone-6' 'iPhone-6' 'iPhone-6']\n"
     ]
    }
   ],
   "source": [
    "y_pred = clf.predict(X_test)\n",
    "#clueless = pd.read_csv(input_path / 'sample_submission.csv', index_col='fname')\n",
    "#clueless['camera'] = y_pred\n",
    "#clueless.to_csv('clueless.csv')\n",
    "#df = pd.read_csv('clueless.csv')\n",
    "#df\n",
    "#print(X_test)\n",
    "print(y_pred)"
   ]
  },
  {
   "cell_type": "code",
   "execution_count": 14,
   "metadata": {},
   "outputs": [],
   "source": [
    "import pickle"
   ]
  },
  {
   "cell_type": "code",
   "execution_count": 16,
   "metadata": {},
   "outputs": [],
   "source": [
    "filename = '/home/mashrin/input/camera_model.pkl'\n",
    "\n",
    "pickle.dump(clf, open(filename, 'wb'))\n",
    "\n",
    "#pickle.dump(file=Saveopen(filename,\"w\"),obj=clf)"
   ]
  },
  {
   "cell_type": "code",
   "execution_count": null,
   "metadata": {},
   "outputs": [],
   "source": []
  }
 ],
 "metadata": {
  "kernelspec": {
   "display_name": "Python 3",
   "language": "python",
   "name": "python3"
  },
  "language_info": {
   "codemirror_mode": {
    "name": "ipython",
    "version": 3
   },
   "file_extension": ".py",
   "mimetype": "text/x-python",
   "name": "python",
   "nbconvert_exporter": "python",
   "pygments_lexer": "ipython3",
   "version": "3.6.3"
  }
 },
 "nbformat": 4,
 "nbformat_minor": 2
}
