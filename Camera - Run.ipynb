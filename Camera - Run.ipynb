{
 "cells": [
  {
   "cell_type": "code",
   "execution_count": 1,
   "metadata": {},
   "outputs": [],
   "source": [
    "import pickle\n",
    "import os\n",
    "import pandas as pd\n",
    "import multiprocessing as mp\n",
    "from skimage.data import imread\n",
    "from sklearn.ensemble import RandomForestClassifier"
   ]
  },
  {
   "cell_type": "code",
   "execution_count": 2,
   "metadata": {},
   "outputs": [],
   "source": [
    "clf = pickle.load(open('/home/mashrin/input/camera_model.pkl', 'rb'))\n",
    "test_path = '/home/mashrin/input/check'"
   ]
  },
  {
   "cell_type": "code",
   "execution_count": 3,
   "metadata": {},
   "outputs": [],
   "source": [
    "test_images = []\n",
    "for fname in sorted(os.listdir(test_path)):\n",
    "    test_images.append(fname)\n",
    "test = pd.DataFrame(test_images, columns=['fname'])"
   ]
  },
  {
   "cell_type": "code",
   "execution_count": 4,
   "metadata": {},
   "outputs": [],
   "source": [
    "def color_stats(q, iolock):\n",
    "    \n",
    "    while True:\n",
    "        \n",
    "        img_path = q.get()\n",
    "        if img_path is None:\n",
    "            break\n",
    "            \n",
    "        if type(img_path) is tuple:\n",
    "            img = imread(train_path/img_path[0]/img_path[1])\n",
    "            key = img_path[1]\n",
    "        else:\n",
    "            img = imread('/home/mashrin/input/check/'+img_path)\n",
    "            key = img_path\n",
    "\n",
    "        if img.shape == (2,):\n",
    "            img = img[0]\n",
    "\n",
    "        color_info[key] = (img[:, :, 0].mean(), img[:, :, 1].mean(), img[:, :, 2].mean(),\n",
    "                           img[:, :, 0].std(),  img[:, :, 1].std(),  img[:, :, 2].std())    "
   ]
  },
  {
   "cell_type": "code",
   "execution_count": 5,
   "metadata": {},
   "outputs": [],
   "source": [
    "cols = ['a0', 'a1', 'a2', 's0', 's1', 's2']\n",
    "\n",
    "for col in cols:\n",
    "    test[col] = None"
   ]
  },
  {
   "cell_type": "code",
   "execution_count": 6,
   "metadata": {},
   "outputs": [],
   "source": [
    "NCORE = 8\n",
    "\n",
    "color_info = mp.Manager().dict()\n",
    "\n",
    "q = mp.Queue(maxsize=NCORE)\n",
    "iolock = mp.Lock()\n",
    "pool = mp.Pool(NCORE, initializer=color_stats, initargs=(q, iolock))\n",
    "\n",
    "for i in test_images:\n",
    "    q.put(i)\n",
    "    \n",
    "for _ in range(NCORE):  \n",
    "    q.put(None)\n",
    "pool.close()\n",
    "pool.join()\n",
    "\n",
    "color_info = dict(color_info)"
   ]
  },
  {
   "cell_type": "code",
   "execution_count": 7,
   "metadata": {},
   "outputs": [],
   "source": [
    "for n, col in enumerate(cols):\n",
    "    test[col] = test['fname'].apply(lambda x: color_info[x][n])"
   ]
  },
  {
   "cell_type": "code",
   "execution_count": 8,
   "metadata": {},
   "outputs": [],
   "source": [
    "X_test = test[cols].values"
   ]
  },
  {
   "cell_type": "code",
   "execution_count": 9,
   "metadata": {},
   "outputs": [
    {
     "name": "stdout",
     "output_type": "stream",
     "text": [
      "['(iP4s)26.jpg']\n",
      "['iPhone-4s']\n"
     ]
    }
   ],
   "source": [
    "y_pred = clf.predict(X_test)\n",
    "print(test_images)\n",
    "print(y_pred)"
   ]
  }
 ],
 "metadata": {
  "kernelspec": {
   "display_name": "Python 3",
   "language": "python",
   "name": "python3"
  },
  "language_info": {
   "codemirror_mode": {
    "name": "ipython",
    "version": 3
   },
   "file_extension": ".py",
   "mimetype": "text/x-python",
   "name": "python",
   "nbconvert_exporter": "python",
   "pygments_lexer": "ipython3",
   "version": "3.6.3"
  }
 },
 "nbformat": 4,
 "nbformat_minor": 2
}
